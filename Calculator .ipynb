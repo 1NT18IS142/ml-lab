{
 "cells": [
  {
   "cell_type": "code",
   "execution_count": 9,
   "id": "hollywood-bleeding",
   "metadata": {},
   "outputs": [],
   "source": [
    "def add(num1,num2):return num1 + num2"
   ]
  },
  {
   "cell_type": "code",
   "execution_count": 10,
   "id": "applicable-booth",
   "metadata": {},
   "outputs": [],
   "source": [
    "def subtract(num1,num2):return num1 - num2"
   ]
  },
  {
   "cell_type": "code",
   "execution_count": 11,
   "id": "hairy-flush",
   "metadata": {},
   "outputs": [],
   "source": [
    "def multiply(num1,num2):return num1 * num2"
   ]
  },
  {
   "cell_type": "code",
   "execution_count": 12,
   "id": "changing-blank",
   "metadata": {},
   "outputs": [],
   "source": [
    "def divide(num1,num2):return num1 / num2"
   ]
  },
  {
   "cell_type": "code",
   "execution_count": 18,
   "id": "planned-brooks",
   "metadata": {},
   "outputs": [
    {
     "name": "stdout",
     "output_type": "stream",
     "text": [
      "Please select operation \n",
      "1.Add\n",
      "2.Sub\n",
      "3.Mul\n",
      "4.Divide\n",
      "\n"
     ]
    }
   ],
   "source": [
    "print(\"Please select operation \\n\" \\\n",
    "      \"1.Add\\n\" \\\n",
    "      \"2.Sub\\n\" \\\n",
    "      \"3.Mul\\n\" \\\n",
    "      \"4.Divide\\n\")"
   ]
  },
  {
   "cell_type": "code",
   "execution_count": 19,
   "id": "sharp-playlist",
   "metadata": {},
   "outputs": [
    {
     "name": "stdout",
     "output_type": "stream",
     "text": [
      "Select any option4\n"
     ]
    }
   ],
   "source": [
    "select = int(input(\"Select any option\"))"
   ]
  },
  {
   "cell_type": "code",
   "execution_count": 20,
   "id": "settled-screening",
   "metadata": {},
   "outputs": [
    {
     "name": "stdout",
     "output_type": "stream",
     "text": [
      "Enter first number: 10\n"
     ]
    }
   ],
   "source": [
    "number_1 = int(input(\"Enter first number: \"))"
   ]
  },
  {
   "cell_type": "code",
   "execution_count": 21,
   "id": "treated-seven",
   "metadata": {},
   "outputs": [
    {
     "name": "stdout",
     "output_type": "stream",
     "text": [
      "Enter second number: 0\n"
     ]
    }
   ],
   "source": [
    "number_2 = int(input(\"Enter second number: \"))"
   ]
  },
  {
   "cell_type": "code",
   "execution_count": 31,
   "id": "interior-berry",
   "metadata": {},
   "outputs": [
    {
     "name": "stdout",
     "output_type": "stream",
     "text": [
      "Cannot divide number by 0 so dividing by 1\n",
      "\n",
      "10 / 1 = 10.0\n"
     ]
    }
   ],
   "source": [
    "if select == 1:\n",
    "    print(number_1, \"+\", number_2, \"=\", add(number_1,number_2))\n",
    "elif select == 2:\n",
    "    print(number_1, \"-\", number_2, \"=\", subtract(number_1,number_2))\n",
    "elif select == 3:\n",
    "    print(number_1, \"*\", number_2, \"=\", multiply(number_1,number_2))\n",
    "elif select == 4:\n",
    "    if number_2==0:\n",
    "     print(\"Cannot divide number by 0 so dividing by 1\\n\")\n",
    "     number_2 = 1\n",
    "     print(number_1, \"/\", number_2, \"=\", divide(number_1,number_2))\n",
    "    else:\n",
    "     print(number_1, \"/\", number_2, \"=\", divide(number_1,number_2))\n",
    "else:\n",
    "    print(\"Invalid input\")"
   ]
  }
 ],
 "metadata": {
  "kernelspec": {
   "display_name": "Python 3",
   "language": "python",
   "name": "python3"
  },
  "language_info": {
   "codemirror_mode": {
    "name": "ipython",
    "version": 3
   },
   "file_extension": ".py",
   "mimetype": "text/x-python",
   "name": "python",
   "nbconvert_exporter": "python",
   "pygments_lexer": "ipython3",
   "version": "3.7.3"
  }
 },
 "nbformat": 4,
 "nbformat_minor": 5
}
