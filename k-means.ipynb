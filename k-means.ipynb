{
 "cells": [
  {
   "cell_type": "code",
   "execution_count": 12,
   "id": "demographic-tribute",
   "metadata": {},
   "outputs": [
    {
     "name": "stdout",
     "output_type": "stream",
     "text": [
      "[[5.9, 3.2], [4.6, 2.9], [4.7, 3.2], [5.0, 3.0], [4.9, 3.1], [5.1, 3.8], [6.0, 3.0]]\n",
      "[[5.5, 4.2]]\n",
      "[[6.2, 2.8], [6.7, 3.1]]\n"
     ]
    }
   ],
   "source": [
    "import numpy\n",
    "import math\n",
    "cluster1 = []\n",
    "cluster2 = []\n",
    "cluster3 = []\n",
    "x1,y1 = 6.2,3.2\n",
    "x2,y2 = 6.6,3.7\n",
    "x3,y3 = 6.5,3.0\n",
    "points = [[5.9,3.2],\n",
    "          [4.6,2.9],\n",
    "          [6.2,2.8],\n",
    "          [4.7,3.2],\n",
    "          [5.5,4.2],\n",
    "          [5.0,3.0],\n",
    "          [4.9,3.1],\n",
    "          [6.7,3.1],\n",
    "          [5.1,3.8],\n",
    "          [6.0,3.0]]\n",
    "\n",
    "def eucl_dist(a,b):\n",
    "    dist1 = math.sqrt((a-x1)**2 + (b-y1)**2)\n",
    "    dist2 = math.sqrt((a-x2)**2 + (b-y2)**2)\n",
    "    dist3 = math.sqrt((a-x3)**2 + (b-y3)**2)\n",
    "    min_dist = min(dist1,dist2,dist3)\n",
    "    if(min_dist == dist1):\n",
    "        cluster1.append([a,b])\n",
    "    elif(min_dist == dist2):\n",
    "        cluster2.append([a,b])\n",
    "    else:\n",
    "        cluster3.append([a,b])\n",
    "for i,j in points:\n",
    "    eucl_dist(i,j)\n",
    "print(cluster1)\n",
    "print(cluster2)\n",
    "print(cluster3)"
   ]
  },
  {
   "cell_type": "code",
   "execution_count": 14,
   "id": "approximate-robinson",
   "metadata": {},
   "outputs": [
    {
     "name": "stdout",
     "output_type": "stream",
     "text": [
      "5.171 3.171\n"
     ]
    }
   ],
   "source": [
    "sumi = 0\n",
    "sumj = 0\n",
    "for i,j in cluster1:\n",
    "    sumi = sumi + i\n",
    "    sumj = sumj + j\n",
    "new_x1 = round(sumi/len(cluster1),3)\n",
    "new_y1 = round(sumj/len(cluster1),3)\n",
    "print(new_x1,new_y1)"
   ]
  },
  {
   "cell_type": "code",
   "execution_count": 15,
   "id": "worst-rouge",
   "metadata": {},
   "outputs": [
    {
     "name": "stdout",
     "output_type": "stream",
     "text": [
      "5.5 4.2\n"
     ]
    }
   ],
   "source": [
    "sumi = 0\n",
    "sumj = 0\n",
    "for i,j in cluster2:\n",
    "    sumi = sumi + i\n",
    "    sumj = sumj + j\n",
    "new_x1 = round(sumi/len(cluster2),2)\n",
    "new_y1 = round(sumj/len(cluster2),2)\n",
    "print(new_x1,new_y1)"
   ]
  },
  {
   "cell_type": "code",
   "execution_count": 16,
   "id": "classified-solid",
   "metadata": {},
   "outputs": [
    {
     "name": "stdout",
     "output_type": "stream",
     "text": [
      "6.45 2.95\n"
     ]
    }
   ],
   "source": [
    "sumi = 0\n",
    "sumj = 0\n",
    "for i,j in cluster3:\n",
    "    sumi = sumi + i\n",
    "    sumj = sumj + j\n",
    "new_x1 = round(sumi/len(cluster3),3)\n",
    "new_y1 = round(sumj/len(cluster3),3)\n",
    "print(new_x1,new_y1)"
   ]
  },
  {
   "cell_type": "code",
   "execution_count": null,
   "id": "million-reality",
   "metadata": {},
   "outputs": [],
   "source": []
  }
 ],
 "metadata": {
  "kernelspec": {
   "display_name": "Python 3",
   "language": "python",
   "name": "python3"
  },
  "language_info": {
   "codemirror_mode": {
    "name": "ipython",
    "version": 3
   },
   "file_extension": ".py",
   "mimetype": "text/x-python",
   "name": "python",
   "nbconvert_exporter": "python",
   "pygments_lexer": "ipython3",
   "version": "3.7.3"
  }
 },
 "nbformat": 4,
 "nbformat_minor": 5
}
