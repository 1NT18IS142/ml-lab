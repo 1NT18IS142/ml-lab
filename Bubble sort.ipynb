{
 "cells": [
  {
   "cell_type": "code",
   "execution_count": 9,
   "id": "horizontal-mining",
   "metadata": {},
   "outputs": [],
   "source": [
    "def bubbleSort(a):\n",
    "    n = len(a)\n",
    "    for i in range(n):\n",
    "        for j in range(0, n-i-1):\n",
    "            if a[j] > a[j+1] :\n",
    "                a[j], a[j+1] = a[j+1], a[j]\n",
    "                "
   ]
  },
  {
   "cell_type": "code",
   "execution_count": 10,
   "id": "built-better",
   "metadata": {},
   "outputs": [],
   "source": [
    "a = [5, 35, 25, 15, 65, 45, 55]"
   ]
  },
  {
   "cell_type": "code",
   "execution_count": 12,
   "id": "whole-shock",
   "metadata": {
    "scrolled": true
   },
   "outputs": [],
   "source": [
    "bubbleSort(a)"
   ]
  },
  {
   "cell_type": "code",
   "execution_count": 13,
   "id": "affecting-morocco",
   "metadata": {},
   "outputs": [
    {
     "name": "stdout",
     "output_type": "stream",
     "text": [
      "Sorted array is:\n",
      "5\n",
      "15\n",
      "25\n",
      "35\n",
      "45\n",
      "55\n",
      "65\n"
     ]
    }
   ],
   "source": [
    "print (\"Sorted array is:\")\n",
    "for i in range(len(a)):\n",
    "    print (\"%d\" %a[i])"
   ]
  },
  {
   "cell_type": "code",
   "execution_count": null,
   "id": "treated-beads",
   "metadata": {},
   "outputs": [],
   "source": []
  },
  {
   "cell_type": "code",
   "execution_count": null,
   "id": "static-revelation",
   "metadata": {},
   "outputs": [],
   "source": []
  }
 ],
 "metadata": {
  "kernelspec": {
   "display_name": "Python 3",
   "language": "python",
   "name": "python3"
  },
  "language_info": {
   "codemirror_mode": {
    "name": "ipython",
    "version": 3
   },
   "file_extension": ".py",
   "mimetype": "text/x-python",
   "name": "python",
   "nbconvert_exporter": "python",
   "pygments_lexer": "ipython3",
   "version": "3.7.3"
  }
 },
 "nbformat": 4,
 "nbformat_minor": 5
}
